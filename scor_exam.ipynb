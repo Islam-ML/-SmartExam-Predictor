{
  "nbformat": 4,
  "nbformat_minor": 0,
  "metadata": {
    "colab": {
      "provenance": []
    },
    "kernelspec": {
      "name": "python3",
      "display_name": "Python 3"
    },
    "language_info": {
      "name": "python"
    }
  },
  "cells": [
    {
      "cell_type": "markdown",
      "source": [
        "### ===============================================\n",
        "# Project: Student Exam Score Analysis & Predictor\n",
        "# Author: Islam Abdul Rahim\n",
        "# Description: This Colab notebook performs EDA (Exploratory Data Analysis)\n",
        "#              on student performance dataset and builds predictive models\n",
        "#              to forecast exam scores based on habits and lifestyle.\n",
        "# ==============================================="
      ],
      "metadata": {
        "id": "MW6uRdGvIWsc"
      }
    },
    {
      "cell_type": "code",
      "execution_count": null,
      "metadata": {
        "id": "DunayA8ptEDY"
      },
      "outputs": [],
      "source": [
        "# --- Step 1: Import Libraries ---\n",
        "import pandas as pd\n",
        "import numpy as np\n",
        "import matplotlib.pyplot as plt\n",
        "import seaborn as sns"
      ]
    },
    {
      "cell_type": "code",
      "source": [
        "# --- Step 2: Load Dataset ---\n",
        "df = pd.read_csv('/content/student_habits_performance2.csv')\n",
        "df.head()  # Display first 5 rows"
      ],
      "metadata": {
        "id": "JJ-WQHAztXY8"
      },
      "execution_count": null,
      "outputs": []
    },
    {
      "cell_type": "code",
      "source": [
        "df.info()  # Check data types and missing values"
      ],
      "metadata": {
        "id": "mqaqUtTytugR"
      },
      "execution_count": null,
      "outputs": []
    },
    {
      "cell_type": "code",
      "source": [
        "# --- Step 3: Explore Categorical Columns ---\n",
        "List_categorical = ['gender', 'diet_quality', 'parental_education_level', 'internet_quality', 'part_time_job']\n",
        "for col in List_categorical:\n",
        "    print(f\"{col} unique values: {df[col].unique()}\")"
      ],
      "metadata": {
        "id": "-i0u9Qvgt5_5"
      },
      "execution_count": null,
      "outputs": []
    },
    {
      "cell_type": "code",
      "source": [
        "# --- Step 4: Drop unnecessary column ---\n",
        "df.drop('student_id', axis=1, inplace=True)  # Drop ID column as it's not needed"
      ],
      "metadata": {
        "id": "XIzxn21WvAwa"
      },
      "execution_count": null,
      "outputs": []
    },
    {
      "cell_type": "code",
      "source": [
        "# --- Step 5: Encode categorical variables ---\n",
        "df['gender'] = df['gender'].map({'Other':0, 'Male':1, 'Female':2})\n",
        "df['diet_quality'] = df['diet_quality'].map({'Poor':1, 'Fair':2, 'Good':3})\n",
        "df['parental_education_level'] = df['parental_education_level'].map({'High School':1, 'Bachelor':2, 'Master':3})\n",
        "df['parental_education_level'] = df['parental_education_level'].fillna(0)  # Fill missing with 0\n",
        "df['internet_quality'] = df['internet_quality'].map({'Poor':1, 'Average':2, 'Good':3})\n",
        "df['part_time_job'] = df['part_time_job'].map({'No':0, 'Yes':1})\n",
        "df['extracurricular_participation'] = df['extracurricular_participation'].map({'No':0, 'Yes':1})\n"
      ],
      "metadata": {
        "id": "sVhsKRJAvF-t"
      },
      "execution_count": null,
      "outputs": []
    },
    {
      "cell_type": "code",
      "source": [
        "df.head()  # Verify changes"
      ],
      "metadata": {
        "id": "KPZgrg-IzgNL"
      },
      "execution_count": null,
      "outputs": []
    },
    {
      "cell_type": "code",
      "source": [
        "# --- Step 6: Set Seaborn Style ---\n",
        "sns.set(style=\"whitegrid\", palette=\"viridis\", font_scale=1.1)"
      ],
      "metadata": {
        "id": "x-Fgrt5ixNZY"
      },
      "execution_count": null,
      "outputs": []
    },
    {
      "cell_type": "code",
      "source": [
        "# ===============================================\n",
        "# EDA: Age vs Exam Score\n",
        "# Scatter plot with regression line to check\n",
        "# how age affects exam performance.\n",
        "# ===============================================\n",
        "plt.figure(figsize=(8,5))\n",
        "sns.scatterplot(data=df, x='age', y='exam_score', alpha=0.7)\n",
        "sns.regplot(data=df, x='age', y='exam_score', scatter=False, color='red')\n",
        "plt.title(\"Age vs Exam Score\")\n",
        "plt.xlabel(\"Age\")\n",
        "plt.ylabel(\"Exam Score\")\n",
        "plt.show()\n",
        "\n"
      ],
      "metadata": {
        "id": "hlzJHLy0xPFb"
      },
      "execution_count": null,
      "outputs": []
    },
    {
      "cell_type": "code",
      "source": [
        "# ===============================================\n",
        "# EDA: Gender vs Exam Score\n",
        "# Boxplot to visualize distribution of exam scores\n",
        "# across different genders.\n",
        "# ===============================================\n",
        "plt.figure(figsize=(7,5))\n",
        "sns.boxplot(data=df, x='gender', y='exam_score', palette='Set2')\n",
        "plt.title(\"Gender vs Exam Score\")\n",
        "plt.xlabel(\"Gender\")\n",
        "plt.ylabel(\"Exam Score\")\n",
        "plt.show()\n",
        "\n"
      ],
      "metadata": {
        "id": "3jDO5-uhxShd"
      },
      "execution_count": null,
      "outputs": []
    },
    {
      "cell_type": "code",
      "source": [
        "# ===============================================\n",
        "# EDA: Study Hours per Day vs Exam Score\n",
        "# Scatter plot + regression line to check\n",
        "# effect of daily study hours on exam performance.\n",
        "# ===============================================\n",
        "plt.figure(figsize=(8,5))\n",
        "sns.scatterplot(data=df, x='study_hours_per_day', y='exam_score', alpha=0.7)\n",
        "sns.regplot(data=df, x='study_hours_per_day', y='exam_score', scatter=False, color='red')\n",
        "plt.title(\"Study Hours per Day vs Exam Score\")\n",
        "plt.xlabel(\"Study Hours per Day\")\n",
        "plt.ylabel(\"Exam Score\")\n",
        "plt.show()\n"
      ],
      "metadata": {
        "id": "PYnYuL4SxWIp"
      },
      "execution_count": null,
      "outputs": []
    },
    {
      "cell_type": "code",
      "source": [
        "# ===============================================\n",
        "# EDA: Social Media Hours vs Exam Score\n",
        "# Scatter plot + regression to observe\n",
        "# relationship between social media usage and exam performance.\n",
        "# ===============================================\n",
        "plt.figure(figsize=(8,5))\n",
        "sns.scatterplot(data=df, x='social_media_hours', y='exam_score', alpha=0.7)\n",
        "sns.regplot(data=df, x='social_media_hours', y='exam_score', scatter=False, color='red')\n",
        "plt.title(\"Social Media Hours vs Exam Score\")\n",
        "plt.xlabel(\"Social Media Hours\")\n",
        "plt.ylabel(\"Exam Score\")\n",
        "plt.show()\n",
        "\n"
      ],
      "metadata": {
        "id": "eTo0TebuxaNM"
      },
      "execution_count": null,
      "outputs": []
    },
    {
      "cell_type": "code",
      "source": [
        "# ===============================================\n",
        "#EDA: Netflix Hours vs Exam Score\n",
        "# Scatter plot + regression line to examine\n",
        "# how Netflix watching hours impact exam scores.\n",
        "# ===============================================\n",
        "plt.figure(figsize=(8,5))\n",
        "sns.scatterplot(data=df, x='netflix_hours', y='exam_score', alpha=0.7)\n",
        "sns.regplot(data=df, x='netflix_hours', y='exam_score', scatter=False, color='red')\n",
        "plt.title(\"Netflix Hours vs Exam Score\")\n",
        "plt.xlabel(\"Netflix Hours\")\n",
        "plt.ylabel(\"Exam Score\")\n",
        "plt.show()\n"
      ],
      "metadata": {
        "id": "XJd3LAY8xdcc"
      },
      "execution_count": null,
      "outputs": []
    },
    {
      "cell_type": "code",
      "source": [
        "# ===============================================\n",
        "# EDA: Part-Time Job vs Exam Score\n",
        "# Boxplot to analyze effect of having a part-time job\n",
        "# on students' exam scores.\n",
        "# ===============================================\n",
        "plt.figure(figsize=(7,5))\n",
        "sns.boxplot(data=df, x='part_time_job', y='exam_score', palette='cool')\n",
        "plt.title(\"Part-Time Job vs Exam Score\")\n",
        "plt.xlabel(\"Has Part-Time Job\")\n",
        "plt.ylabel(\"Exam Score\")\n",
        "plt.show()\n"
      ],
      "metadata": {
        "id": "Y6ZAGV_DxhP2"
      },
      "execution_count": null,
      "outputs": []
    },
    {
      "cell_type": "code",
      "source": [
        "# ===============================================\n",
        "# EDA: Attendance Percentage vs Exam Score\n",
        "# Scatter + regression line to see if better attendance\n",
        "# correlates with higher exam scores.\n",
        "# ===============================================\n",
        "plt.figure(figsize=(8,5))\n",
        "sns.scatterplot(data=df, x='attendance_percentage', y='exam_score', alpha=0.7)\n",
        "sns.regplot(data=df, x='attendance_percentage', y='exam_score', scatter=False, color='red')\n",
        "plt.title(\"Attendance Percentage vs Exam Score\")\n",
        "plt.xlabel(\"Attendance Percentage\")\n",
        "plt.ylabel(\"Exam Score\")\n",
        "plt.show()\n",
        "\n"
      ],
      "metadata": {
        "id": "aEtL2CcBxl8F"
      },
      "execution_count": null,
      "outputs": []
    },
    {
      "cell_type": "code",
      "source": [
        "# ===============================================\n",
        "# EDA: Sleep Hours vs Exam Score\n",
        "# Scatter + regression to check relationship\n",
        "# between sleep duration and exam performance.\n",
        "# ===============================================\n",
        "plt.figure(figsize=(8,5))\n",
        "sns.scatterplot(data=df, x='sleep_hours', y='exam_score', alpha=0.7)\n",
        "sns.regplot(data=df, x='sleep_hours', y='exam_score', scatter=False, color='red')\n",
        "plt.title(\"Sleep Hours vs Exam Score\")\n",
        "plt.xlabel(\"Sleep Hours\")\n",
        "plt.ylabel(\"Exam Score\")\n",
        "plt.show()\n"
      ],
      "metadata": {
        "id": "v0Pm3Q_wxpXl"
      },
      "execution_count": null,
      "outputs": []
    },
    {
      "cell_type": "code",
      "source": [
        "# ===============================================\n",
        "# EDA: Diet Quality vs Exam Score\n",
        "# Boxplot to observe how diet quality impacts exam scores.\n",
        "# ===============================================\n",
        "plt.figure(figsize=(7,5))\n",
        "sns.boxplot(data=df, x='diet_quality', y='exam_score', palette='Set3')\n",
        "plt.title(\"Diet Quality vs Exam Score\")\n",
        "plt.xlabel(\"Diet Quality\")\n",
        "plt.ylabel(\"Exam Score\")\n",
        "plt.show()\n"
      ],
      "metadata": {
        "id": "Go9yez3Xxr4A"
      },
      "execution_count": null,
      "outputs": []
    },
    {
      "cell_type": "code",
      "source": [
        "# ===============================================\n",
        "# EDA: Exercise Frequency vs Exam Score\n",
        "# Boxplot to see if students with higher exercise frequency\n",
        "# achieve better exam scores.\n",
        "# ===============================================\n",
        "plt.figure(figsize=(7,5))\n",
        "sns.boxplot(data=df, x='exercise_frequency', y='exam_score', palette='husl')\n",
        "plt.title(\"Exercise Frequency vs Exam Score\")\n",
        "plt.xlabel(\"Exercise Frequency\")\n",
        "plt.ylabel(\"Exam Score\")\n",
        "plt.show()\n",
        "\n"
      ],
      "metadata": {
        "id": "VrUxvCd4xvLp"
      },
      "execution_count": null,
      "outputs": []
    },
    {
      "cell_type": "code",
      "source": [
        "# ===============================================\n",
        "# EDA: Parental Education Level vs Exam Score\n",
        "# Boxplot to analyze impact of parental education level\n",
        "# on student's exam performance.\n",
        "# ===============================================\n",
        "plt.figure(figsize=(7,5))\n",
        "sns.boxplot(data=df, x='parental_education_level', y='exam_score', palette='pastel')\n",
        "plt.title(\"Parental Education Level vs Exam Score\")\n",
        "plt.xlabel(\"Parental Education Level\")\n",
        "plt.ylabel(\"Exam Score\")\n",
        "plt.show()\n",
        "\n"
      ],
      "metadata": {
        "id": "HiNe7Xw7xzRU"
      },
      "execution_count": null,
      "outputs": []
    },
    {
      "cell_type": "code",
      "source": [
        "# ===============================================\n",
        "# EDA: Internet Quality vs Exam Score\n",
        "# Boxplot to study the effect of internet quality on exam scores.\n",
        "# ===============================================\n",
        "plt.figure(figsize=(7,5))\n",
        "sns.boxplot(data=df, x='internet_quality', y='exam_score', palette='coolwarm')\n",
        "plt.title(\"Internet Quality vs Exam Score\")\n",
        "plt.xlabel(\"Internet Quality\")\n",
        "plt.ylabel(\"Exam Score\")\n",
        "plt.show()\n",
        "\n"
      ],
      "metadata": {
        "id": "Eq5Wy-iVx2m_"
      },
      "execution_count": null,
      "outputs": []
    },
    {
      "cell_type": "code",
      "source": [
        "# ===============================================\n",
        "# EDA: Mental Health Rating vs Exam Score\n",
        "# Scatter + regression to see if mental health rating\n",
        "# correlates with exam performance.\n",
        "# ===============================================\n",
        "plt.figure(figsize=(8,5))\n",
        "sns.scatterplot(data=df, x='mental_health_rating', y='exam_score', alpha=0.7)\n",
        "sns.regplot(data=df, x='mental_health_rating', y='exam_score', scatter=False, color='red')\n",
        "plt.title(\"Mental Health Rating vs Exam Score\")\n",
        "plt.xlabel(\"Mental Health Rating\")\n",
        "plt.ylabel(\"Exam Score\")\n",
        "plt.show()\n",
        "\n"
      ],
      "metadata": {
        "id": "0vS_qC7Gx6Kp"
      },
      "execution_count": null,
      "outputs": []
    },
    {
      "cell_type": "code",
      "source": [
        "# ===============================================\n",
        "# EDA: Extracurricular Participation vs Exam Score\n",
        "# Boxplot to visualize if participation in extracurricular activities\n",
        "# affects exam performance.\n",
        "# ===============================================\n",
        "plt.figure(figsize=(7,5))\n",
        "sns.boxplot(data=df, x='extracurricular_participation', y='exam_score', palette='muted')\n",
        "plt.title(\"Extracurricular Participation vs Exam Score\")\n",
        "plt.xlabel(\"Extracurricular Participation\")\n",
        "plt.ylabel(\"Exam Score\")\n",
        "plt.show()\n",
        "\n"
      ],
      "metadata": {
        "id": "_V-MxGuox9ZE"
      },
      "execution_count": null,
      "outputs": []
    },
    {
      "cell_type": "code",
      "source": [
        "# ===============================================\n",
        "# Correlation Heatmap of All Variables\n",
        "# Visualize the correlation matrix to identify relationships\n",
        "# between all numeric features and exam_score.\n",
        "# ===============================================\n",
        "plt.figure(figsize=(8,6))\n",
        "corr = df.corr(numeric_only=True)  # Compute correlation matrix\n",
        "sns.heatmap(corr, annot=True, cmap=\"coolwarm\", fmt=\".2f\", linewidths=0.5)\n",
        "plt.title(\"Correlation Heatmap of All Variables\", fontsize=14, pad=12)\n",
        "plt.show()\n"
      ],
      "metadata": {
        "id": "SygCfoutyGxH"
      },
      "execution_count": null,
      "outputs": []
    },
    {
      "cell_type": "code",
      "source": [
        "# ===============================================\n",
        "# Top Correlations with Exam Score\n",
        "# Display the features most positively or negatively\n",
        "# correlated with exam_score.\n",
        "# ===============================================\n",
        "corr_target = corr[\"exam_score\"].sort_values(ascending=False)\n",
        "print(\"🔍 Top Correlations with Exam Score:\\n\")\n",
        "print(corr_target)\n"
      ],
      "metadata": {
        "id": "Rj6qdaGVKM6l"
      },
      "execution_count": null,
      "outputs": []
    },
    {
      "cell_type": "code",
      "source": [
        "# ===============================================\n",
        "# Automated Correlation Interpretation\n",
        "# Classify correlation strength (None, Weak, Moderate, Strong, Very Strong)\n",
        "# and direction (Positive or Negative) for each feature.\n",
        "# ===============================================\n",
        "def interpret_corr(value):\n",
        "    \"\"\"Interpret the correlation value as strength and direction.\"\"\"\n",
        "    if abs(value) >= 0.7:\n",
        "        strength = \"Very Strong\"\n",
        "    elif abs(value) >= 0.5:\n",
        "        strength = \"Strong\"\n",
        "    elif abs(value) >= 0.3:\n",
        "        strength = \"Moderate\"\n",
        "    elif abs(value) >= 0.1:\n",
        "        strength = \"Weak\"\n",
        "    else:\n",
        "        strength = \"None\"\n",
        "\n",
        "    direction = \"Positive\" if value > 0 else \"Negative\"\n",
        "    if abs(value) < 0.05:\n",
        "        direction = \"None\"\n",
        "\n",
        "    return f\"{direction}, {strength}\"\n",
        "\n",
        "# Generate correlation report\n",
        "report = pd.DataFrame({\n",
        "    \"Correlation with Exam Score\": corr_target,\n",
        "    \"Relationship\": [interpret_corr(v) for v in corr_target]\n",
        "}).sort_values(by=\"Correlation with Exam Score\", key=abs, ascending=False)\n",
        "\n",
        "display(report)  # Display nicely in Colab\n",
        "\n"
      ],
      "metadata": {
        "id": "J-OoIizI0ewN"
      },
      "execution_count": null,
      "outputs": []
    },
    {
      "cell_type": "code",
      "source": [
        "# ===============================================\n",
        "# Step 7: Preprocessing & Train-Test Split\n",
        "# ===============================================\n",
        "from sklearn.preprocessing import StandardScaler\n",
        "from sklearn.model_selection import train_test_split\n",
        "\n",
        "X = df.drop('exam_score', axis=1)\n",
        "y = df['exam_score']\n",
        "\n",
        "scaler = StandardScaler()\n",
        "X_scaled = scaler.fit_transform(X)\n",
        "\n",
        "X_train, X_test, y_train, y_test = train_test_split(X_scaled, y, test_size=0.2, random_state=42)"
      ],
      "metadata": {
        "id": "pLWLMegK1I16"
      },
      "execution_count": null,
      "outputs": []
    },
    {
      "cell_type": "code",
      "source": [
        "# ===============================================\n",
        "# Step 8: Model Training & Evaluation\n",
        "# ===============================================\n",
        "from sklearn.linear_model import LinearRegression\n",
        "from sklearn.ensemble import RandomForestRegressor, GradientBoostingRegressor\n",
        "from sklearn.metrics import mean_squared_error, r2_score, mean_absolute_error\n",
        "\n",
        "def evaluate_model(model, X_test, y_test, model_name):\n",
        "    y_pred = model.predict(X_test)\n",
        "    print(f\"📊 {model_name} Results:\")\n",
        "    print(f\"R2 Score : {r2_score(y_test, y_pred)*100:.3f}\")\n",
        "    print(f\"RMSE     : {mean_squared_error(y_test, y_pred):.3f}\")\n",
        "    print(f\"MAE      : {mean_absolute_error(y_test, y_pred):.3f}\")\n",
        "    print()\n",
        "    plt.figure(figsize=(7,5))\n",
        "    sns.scatterplot(x=y_test, y=y_pred)\n",
        "    plt.plot([y_test.min(), y_test.max()], [y_test.min(), y_test.max()], 'r--')\n",
        "    plt.xlabel(\"Actual Exam Score\")\n",
        "    plt.ylabel(\"Predicted Exam Score\")\n",
        "    plt.title(f\"{model_name}: Actual vs Predicted\")\n",
        "    plt.show()"
      ],
      "metadata": {
        "id": "wCl8ryHj4UOW"
      },
      "execution_count": null,
      "outputs": []
    },
    {
      "cell_type": "code",
      "source": [
        "# Linear Regression\n",
        "lr = LinearRegression()\n",
        "lr.fit(X_train, y_train)\n",
        "evaluate_model(lr, X_test, y_test, \"Linear Regression\")"
      ],
      "metadata": {
        "id": "KYrlIvTZ4mNl"
      },
      "execution_count": null,
      "outputs": []
    },
    {
      "cell_type": "code",
      "source": [
        "# Gradient Boosting\n",
        "gbr = GradientBoostingRegressor(n_estimators=300, learning_rate=0.05, max_depth=3, random_state=42)\n",
        "gbr.fit(X_train, y_train)\n",
        "evaluate_model(gbr, X_test, y_test, \"Gradient Boosting Regressor\")"
      ],
      "metadata": {
        "id": "1Xb5t6ep5Vmb"
      },
      "execution_count": null,
      "outputs": []
    },
    {
      "cell_type": "code",
      "source": [
        "# Random Forest\n",
        "rf = RandomForestRegressor(n_estimators=200, random_state=42)\n",
        "rf.fit(X_train, y_train)\n",
        "evaluate_model(rf, X_test, y_test, \"Random Forest Regressor\")"
      ],
      "metadata": {
        "id": "CucjiiEoLWb3"
      },
      "execution_count": null,
      "outputs": []
    },
    {
      "cell_type": "code",
      "source": [
        "# --- Step 9: Save Model & Scaler ---\n",
        "import joblib\n",
        "\n",
        "joblib.dump(lr, 'best_model_linear_regression.pkl')\n",
        "joblib.dump(scaler, 'scaler_X.pkl')\n",
        "joblib.dump(X, 'features.pkl')\n",
        "print(\"✅ Model and scaler saved successfully!\")"
      ],
      "metadata": {
        "id": "mjNy7WLfEctq"
      },
      "execution_count": null,
      "outputs": []
    },
    {
      "cell_type": "code",
      "source": [
        "# Optional: Download files in Colab\n",
        "from google.colab import files\n",
        "files.download('best_model_linear_regression.pkl')\n",
        "files.download('scaler_X.pkl')\n",
        "files.download('features.pkl')"
      ],
      "metadata": {
        "id": "JWdy2PlAErDU"
      },
      "execution_count": null,
      "outputs": []
    },
    {
      "cell_type": "code",
      "source": [
        "import gradio as gr\n",
        "import joblib\n",
        "import numpy as np\n",
        "\n",
        "# Load saved model & scaler\n",
        "try:\n",
        "    model = joblib.load('best_model_linear_regression.pkl')\n",
        "    scaler = joblib.load('scaler_X.pkl')\n",
        "except FileNotFoundError:\n",
        "    print(\"Error: Model or scaler files not found. Please make sure 'best_model_linear_regression.pkl' and 'scaler_X.pkl' are in the same directory.\")\n",
        "\n",
        "    from sklearn.linear_model import LinearRegression\n",
        "    from sklearn.preprocessing import StandardScaler\n",
        "    model = LinearRegression()\n",
        "    scaler = StandardScaler()\n",
        "\n",
        "    dummy_X = np.random.rand(100, 14)\n",
        "    dummy_y = np.random.rand(100) * 100\n",
        "    model.fit(dummy_X, dummy_y)\n",
        "    scaler.fit(dummy_X)\n",
        "\n",
        "\n",
        "def predict_exam_score(\n",
        "    age, gender, study_hours_per_day, social_media_hours, netflix_hours,\n",
        "    part_time_job, attendance_percentage, sleep_hours, diet_quality,\n",
        "    exercise_frequency, parental_education_level, internet_quality,\n",
        "    mental_health_rating, extracurricular_participation\n",
        "):\n",
        "    gender_map = {\"Other\":0, \"Male\":1, \"Female\":2}\n",
        "    diet_map = {\"Poor\":1, \"Fair\":2, \"Good\":3}\n",
        "    parental_map = {\"High School\":1, \"Bachelor\":2, \"Master\":3}\n",
        "    internet_map = {\"Poor\":1, \"Average\":2, \"Good\":3}\n",
        "    job_map = {\"No\":0, \"Yes\":1}\n",
        "    extra_map = {\"No\":0, \"Yes\":1}\n",
        "\n",
        "    gender = gender_map[gender]\n",
        "    diet_quality = diet_map[diet_quality]\n",
        "    parental_education_level = parental_map[parental_education_level]\n",
        "    internet_quality = internet_map[internet_quality]\n",
        "    part_time_job = job_map[part_time_job]\n",
        "    extracurricular_participation = extra_map[extracurricular_participation]\n",
        "\n",
        "    input_data = np.array([[\n",
        "        age, gender, study_hours_per_day, social_media_hours, netflix_hours,\n",
        "        part_time_job, attendance_percentage, sleep_hours, diet_quality,\n",
        "        exercise_frequency, parental_education_level, internet_quality,\n",
        "        mental_health_rating, extracurricular_participation\n",
        "    ]])\n",
        "\n",
        "    input_scaled = scaler.transform(input_data)\n",
        "    pred = model.predict(input_scaled)\n",
        "\n",
        "\n",
        "    score = round(pred[0], 2)\n",
        "    if score >= 85:\n",
        "        emoji = \"🏆\"\n",
        "        color = \"#4ade80\" # Green\n",
        "    elif score >= 70:\n",
        "        emoji = \"🎯\"\n",
        "        color = \"#60a5fa\" # Blue\n",
        "    else:\n",
        "        emoji = \"📈\"\n",
        "        color = \"#fbbf24\" # Yellow\n",
        "\n",
        "    return f\"<h1 style='font-size: 3.5em; margin: 0; color: {color};'>{emoji} {score}</h1><p style='color: #8892b0; margin-top: 10px;'>Predicted Exam Score</p>\"\n",
        "\n",
        "\n",
        "custom_css = \"\"\"\n",
        "/* General Body & Font */\n",
        "body {\n",
        "    background: linear-gradient(135deg, #0f172a 0%, #1e293b 100%);\n",
        "    color: #e2e8f0;\n",
        "    font-family: 'Inter', -apple-system, BlinkMacSystemFont, 'Segoe UI', Roboto, Oxygen, Ubuntu, Cantarell, sans-serif;\n",
        "    margin: 0;\n",
        "    padding: 20px;\n",
        "}\n",
        "\n",
        "/* Main App Container */\n",
        ".gradio-container {\n",
        "    max-width: 1000px;\n",
        "    margin: 0 auto;\n",
        "    background: #1e293b;\n",
        "    border: 1px solid #334155;\n",
        "    border-radius: 20px;\n",
        "    box-shadow: 0 20px 25px -5px rgba(0, 0, 0, 0.4), 0 10px 10px -5px rgba(0, 0, 0, 0.4);\n",
        "    padding: 10px; /* Inner padding for the container */\n",
        "    overflow: hidden; /* Ensures the border-radius clips content */\n",
        "}\n",
        "\n",
        "/* Header Section */\n",
        "#header {\n",
        "    text-align: center;\n",
        "    padding: 30px 20px;\n",
        "    background: linear-gradient(135deg, #1e3a8a, #312e81);\n",
        "    border-radius: 15px 15px 0 0;\n",
        "    margin-bottom: 20px;\n",
        "}\n",
        "#header h1 {\n",
        "    font-size: 3em;\n",
        "    font-weight: 800;\n",
        "    background: linear-gradient(90deg, #22d3ee, #a78bfa, #22d3ee);\n",
        "    background-size: 200% auto;\n",
        "    -webkit-background-clip: text;\n",
        "    -webkit-text-fill-color: transparent;\n",
        "    background-clip: text;\n",
        "    animation: shine 4s linear infinite;\n",
        "    margin: 0;\n",
        "}\n",
        "@keyframes shine {\n",
        "    to { background-position: 200% center; }\n",
        "}\n",
        "#header p {\n",
        "    color: #cbd5e1;\n",
        "    font-size: 1.1em;\n",
        "    margin-top: 10px;\n",
        "}\n",
        "\n",
        "/* Input Groups (Cards) */\n",
        ".input-group {\n",
        "    background: #334155;\n",
        "    border: 1px solid #475569;\n",
        "    border-radius: 12px;\n",
        "    padding: 20px;\n",
        "    margin-bottom: 20px;\n",
        "    transition: transform 0.2s ease, box-shadow 0.2s ease;\n",
        "}\n",
        ".input-group:hover {\n",
        "    transform: translateY(-2px);\n",
        "    box-shadow: 0 4px 12px rgba(0, 0, 0, 0.2);\n",
        "}\n",
        ".input-group h3 {\n",
        "    color: #e2e8f0;\n",
        "    font-size: 1.2em;\n",
        "    margin-top: 0;\n",
        "    margin-bottom: 20px;\n",
        "    border-bottom: 2px solid #22d3ee;\n",
        "    padding-bottom: 10px;\n",
        "}\n",
        "\n",
        "/* Form Controls */\n",
        "label {\n",
        "    color: #94a3b8;\n",
        "    font-weight: 600;\n",
        "    font-size: 0.9em;\n",
        "}\n",
        "input[type=\"number\"], textarea, .wrap.svelte-1g805jv {\n",
        "    background-color: #1e293b;\n",
        "    border: 1px solid #475569;\n",
        "    color: #e2e8f0;\n",
        "    border-radius: 8px;\n",
        "    padding: 10px;\n",
        "    transition: all 0.3s ease;\n",
        "}\n",
        "input[type=\"number\"]:focus, textarea:focus, .wrap.svelte-1g805jv:focus-within {\n",
        "    border-color: #22d3ee;\n",
        "    box-shadow: 0 0 0 3px rgba(34, 211, 238, 0.1);\n",
        "    outline: none;\n",
        "}\n",
        "\n",
        "/* The Big Predict Button */\n",
        "#predict-btn {\n",
        "    background: linear-gradient(135deg, #3b82f6, #8b5cf6);\n",
        "    color: white;\n",
        "    font-size: 1.3em;\n",
        "    font-weight: bold;\n",
        "    border: none;\n",
        "    border-radius: 50px; /* Pill shape */\n",
        "    padding: 18px 45px;\n",
        "    box-shadow: 0 10px 20px rgba(59, 130, 246, 0.4);\n",
        "    transition: all 0.3s ease;\n",
        "    width: 100%;\n",
        "    margin: 20px 0;\n",
        "}\n",
        "#predict-btn:hover {\n",
        "    transform: translateY(-3px);\n",
        "    box-shadow: 0 15px 30px rgba(59, 130, 246, 0.6);\n",
        "    background: linear-gradient(135deg, #2563eb, #7c3aed);\n",
        "}\n",
        "\n",
        "/* Output Box */\n",
        "#output-box {\n",
        "    background: linear-gradient(135deg, #0f172a, #1e293b);\n",
        "    border: 2px solid #22d3ee;\n",
        "    border-radius: 12px;\n",
        "    padding: 40px;\n",
        "    text-align: center;\n",
        "    box-shadow: 0 0 30px rgba(34, 211, 238, 0.3), inset 0 0 20px rgba(34, 211, 238, 0.1);\n",
        "    margin-top: 20px;\n",
        "}\n",
        "\n",
        "/* Footer */\n",
        "#footer p {\n",
        "    color: #64748b;\n",
        "    text-align: center;\n",
        "    margin-top: 20px;\n",
        "    font-size: 0.9em;\n",
        "}\n",
        "\"\"\"\n",
        "\n",
        "with gr.Blocks(css=custom_css, title=\"Exam Score Predictor - Pro\") as demo:\n",
        "\n",
        "    with gr.Column(elem_id=\"main-container\"):\n",
        "        # Header\n",
        "        gr.HTML(\"\"\"\n",
        "        <div id=\"header\">\n",
        "            <h1>🎓 Exam Score Predictor</h1>\n",
        "            <p>Unlock your academic potential with AI-powered insights.</p>\n",
        "        </div>\n",
        "        \"\"\")\n",
        "\n",
        "        with gr.Row():\n",
        "            with gr.Column(elem_classes=\"input-group\"):\n",
        "                gr.HTML(\"<h3>👤 Personal Profile</h3>\")\n",
        "                age = gr.Number(label=\"🎂 Age\", value=16)\n",
        "                gender = gr.Dropdown(label=\"⚧️ Gender\", choices=[\"Other\",\"Male\",\"Female\"], value=\"Female\")\n",
        "                parental_education_level = gr.Dropdown(label=\"👨‍🎓 Parental Education\", choices=[\"High School\",\"Bachelor\",\"Master\"], value=\"Bachelor\")\n",
        "                part_time_job = gr.Dropdown(label=\"💼 Part-Time Job\", choices=[\"No\",\"Yes\"], value=\"No\")\n",
        "\n",
        "            with gr.Column(elem_classes=\"input-group\"):\n",
        "                gr.HTML(\"<h3>📚 Academic Habits</h3>\")\n",
        "                study_hours_per_day = gr.Number(label=\"📖 Study Hours/Day\", value=5)\n",
        "                attendance_percentage = gr.Number(label=\"🏫 Attendance %\", value=90)\n",
        "                internet_quality = gr.Dropdown(label=\"🌐 Internet Quality\", choices=[\"Poor\",\"Average\",\"Good\"], value=\"Good\")\n",
        "                extracurricular_participation = gr.Dropdown(label=\"🎨 Extracurriculars\", choices=[\"No\",\"Yes\"], value=\"Yes\")\n",
        "\n",
        "        with gr.Row():\n",
        "            with gr.Column(elem_classes=\"input-group\"):\n",
        "                gr.HTML(\"<h3>🌍 Lifestyle & Well-being</h3>\")\n",
        "                sleep_hours = gr.Number(label=\"😴 Sleep Hours\", value=7)\n",
        "                diet_quality = gr.Dropdown(label=\"🥗 Diet Quality\", choices=[\"Poor\",\"Fair\",\"Good\"], value=\"Good\")\n",
        "                exercise_frequency = gr.Number(label=\"💪 Exercise Freq./Week\", value=3)\n",
        "                mental_health_rating = gr.Number(label=\"🧠 Mental Health (1-10)\", value=4)\n",
        "\n",
        "            with gr.Column(elem_classes=\"input-group\"):\n",
        "                gr.HTML(\"<h3>📱 Digital Life</h3>\")\n",
        "                social_media_hours = gr.Number(label=\"📲 Social Media Hours\", value=2)\n",
        "                netflix_hours = gr.Number(label=\"📺 Netflix Hours\", value=1)\n",
        "\n",
        "        predict_btn = gr.Button(\"Predict My Score 🚀\", elem_id=\"predict-btn\")\n",
        "\n",
        "        output = gr.HTML(\"<h1 id='output-result' style='color: #475569;'>Your score will appear here</h1>\", elem_id=\"output-box\")\n",
        "\n",
        "        gr.HTML(\"<div id='footer'><p>Designed by : Islam &$</p></div>\")\n",
        "\n",
        "    predict_btn.click(\n",
        "        fn=predict_exam_score,\n",
        "        inputs=[\n",
        "            age, gender, study_hours_per_day, social_media_hours, netflix_hours,\n",
        "            part_time_job, attendance_percentage, sleep_hours, diet_quality,\n",
        "            exercise_frequency, parental_education_level, internet_quality,\n",
        "            mental_health_rating, extracurricular_participation\n",
        "        ],\n",
        "        outputs=output\n",
        "    )\n",
        "\n",
        "demo.launch()"
      ],
      "metadata": {
        "id": "n_KlTGUOLsA-"
      },
      "execution_count": null,
      "outputs": []
    }
  ]
}